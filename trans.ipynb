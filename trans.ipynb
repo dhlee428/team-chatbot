{
 "cells": [
  {
   "cell_type": "code",
   "execution_count": null,
   "id": "d7d9e976",
   "metadata": {},
   "outputs": [],
   "source": [
    "import os\n",
    "import re\n",
    "from openai import OpenAI\n",
    "from langchain_chroma import Chroma\n",
    "from langchain_openai import OpenAIEmbeddings\n",
    "from langchain.prompts import PromptTemplate\n",
    "from langchain.schema import Document\n",
    "from langchain.chat_models import ChatOpenAI\n",
    "from langchain.chains import LLMChain\n",
    "\n",
    "# 🔑 환경 설정\n",
    "os.environ[\"OPENAI_API_KEY\"] = \"OPENAI_API_KEY\"  # ← 실제 키로 교체\n",
    "client = OpenAI(api_key=os.environ[\"OPENAI_API_KEY\"])\n",
    "embedding = OpenAIEmbeddings(model=\"text-embedding-3-small\")"
   ]
  },
  {
   "cell_type": "code",
   "execution_count": null,
   "id": "3ee5d3d6",
   "metadata": {},
   "outputs": [],
   "source": [
    "db3 = Chroma(\n",
    "    persist_directory=\"./chroma_db\",\n",
    "    embedding_function=embedding\n",
    ")"
   ]
  },
  {
   "cell_type": "code",
   "execution_count": null,
   "id": "b67238f4",
   "metadata": {},
   "outputs": [],
   "source": []
  },
  {
   "cell_type": "code",
   "execution_count": 16,
   "id": "125131bd",
   "metadata": {},
   "outputs": [],
   "source": [
    "# ✅ 한-영 교수 이름 매핑\n",
    "professor_name_map = {\n",
    "    \"노맹석\": \"Maengseok Noh\",\n",
    "    \"문형빈\": \"HyungBin Moon\",\n",
    "    \"하지환\": \"Jihwan Ha\",\n",
    "    \"지준화\": \"Junhwa Chi\",\n",
    "}"
   ]
  },
  {
   "cell_type": "code",
   "execution_count": 17,
   "id": "56a87074",
   "metadata": {},
   "outputs": [],
   "source": [
    "# ✅ 번역\n",
    "def translate_with_gpt(text, source_lang=\"ko\", target_lang=\"en\") -> str:\n",
    "    prompt = f\"Translate this from {source_lang} to {target_lang}:\\n\\n{text}\"\n",
    "    response = client.chat.completions.create(\n",
    "        model=\"gpt-4\",\n",
    "        messages=[{\"role\": \"user\", \"content\": prompt}],\n",
    "        temperature=0.3\n",
    "    )\n",
    "    return response.choices[0].message.content.strip()"
   ]
  },
  {
   "cell_type": "code",
   "execution_count": 18,
   "id": "c1e20ea0",
   "metadata": {},
   "outputs": [],
   "source": [
    "# ✅ 질문 유형 분류\n",
    "def classify_question_type(question_ko: str) -> str:\n",
    "    prompt = f\"\"\"\n",
    "다음 질문의 유형을 아래 중 하나로 분류해 주세요:\n",
    "- 논문_목록\n",
    "- 논문_요약\n",
    "- 연구_흐름\n",
    "\n",
    "질문: {question_ko}\n",
    "질문 유형:\"\"\"\n",
    "    response = client.chat.completions.create(\n",
    "        model=\"gpt-4o\",\n",
    "        messages=[{\"role\": \"user\", \"content\": prompt.strip()}],\n",
    "        temperature=0\n",
    "    )\n",
    "    return response.choices[0].message.content.strip()"
   ]
  },
  {
   "cell_type": "code",
   "execution_count": 19,
   "id": "6f2a4df2",
   "metadata": {},
   "outputs": [
    {
     "data": {
      "text/plain": [
       "\"The list of Professor Moon Hyung-bin's papers is\""
      ]
     },
     "execution_count": 19,
     "metadata": {},
     "output_type": "execute_result"
    }
   ],
   "source": [
    "translate_with_gpt(\"문형빈 교수님의 논문 목록은\")"
   ]
  },
  {
   "cell_type": "code",
   "execution_count": 20,
   "id": "ed3fe5e9",
   "metadata": {},
   "outputs": [],
   "source": [
    "# ✅ 교수명 추출\n",
    "def extract_professor_name(question: str) -> str | None:\n",
    "    match = re.search(r\"([가-힣]{2,4})\\s*교수\", question)\n",
    "    return match.group(1) if match else None"
   ]
  },
  {
   "cell_type": "code",
   "execution_count": 27,
   "id": "1d537120",
   "metadata": {},
   "outputs": [],
   "source": [
    "def get_first_page_summary(doc: Document) -> str:\n",
    "    # 전체 page_content에서 첫 문단 또는 앞부분만 요약용으로 자름\n",
    "    content = doc.page_content.strip().split(\"\\n\")[:2]  # 첫 줄만\n",
    "    return f\"📄 {content}\""
   ]
  },
  {
   "cell_type": "code",
   "execution_count": 30,
   "id": "9812b9ac",
   "metadata": {},
   "outputs": [],
   "source": [
    "# ✅ 문서 포맷 구성 (교수명만 존재하는 메타데이터 구조 대응)\n",
    "def format_doc_with_metadata(doc: Document) -> str:\n",
    "    professor = doc.metadata.get(\"professor\", \"교수 정보 없음\")\n",
    "    content = doc.page_content[:500] + \"...\" if len(doc.page_content) > 500 else doc.page_content\n",
    "    return f\"\"\"🧑‍🏫 교수: {professor}\n",
    "📄 내용 요약:\n",
    "{content}\n",
    "\"\"\"\n",
    "\n",
    "# ✅ 프롬프트 템플릿\n",
    "prompt_templates = {\n",
    "    \"논문_목록\": PromptTemplate(\n",
    "        input_variables=[\"context\", \"question\"],\n",
    "        template=\"\"\"\n",
    "You are provided with a collection of academic papers written by a professor. \n",
    "Based on the following user request, list the key papers along with:\n",
    "\n",
    "1. The title of each paper (📌 Please keep the title in English)  \n",
    "2. The publication year (if available)  \n",
    "3. A few core keywords representing the main topic (in Korean)  \n",
    "4. The author(s) of each paper (in Korean)\n",
    "\n",
    "User question:\n",
    "{question}\n",
    "\n",
    "Paper content:\n",
    "{context}\n",
    "\n",
    "📌 Please write your response in Korean using a respectful and organized tone, **but keep the paper titles in English**.\n",
    "\n",
    "논문 목록 요약 (in Korean):\"\"\"\n",
    "    ),\n",
    "    \"논문_요약\": PromptTemplate(\n",
    "        input_variables=[\"context\"],\n",
    "        template=\"\"\"\n",
    "You are a research summarization assistant. Based on the following academic paper, provide a clear and concise summary including the following elements:\n",
    "\n",
    "1. Research subject (what or who is being studied)  \n",
    "2. Research method (how it was studied)  \n",
    "3. Research findings (what was discovered)  \n",
    "4. Suggestions or implications (recommendations or conclusions)\n",
    "\n",
    "Paper content:\n",
    "{context}\n",
    "\n",
    "📌 Please write your summary in Korean, using a polite and professional tone.\n",
    "\n",
    "논문 요약 (in Korean):\"\"\"\n",
    "    ),\n",
    "    \"연구_흐름\": PromptTemplate(\n",
    "        input_variables=[\"context\", \"question\"],\n",
    "        template=\"\"\"\n",
    "You are an academic assistant. Given a collection of research papers written by a single professor, analyze how the research topics or areas of interest have evolved over time. \n",
    "Identify key shifts, trends, or patterns chronologically based on the publication content.\n",
    "\n",
    "Context:\n",
    "{context}\n",
    "\n",
    "Question:\n",
    "{question}\n",
    "\n",
    "Now, summarize the chronological progression of the professor’s research focus. \n",
    "📌 Please write your answer in Korean using a clear and respectful tone.\n",
    "\n",
    "연구 흐름 요약 (한국어로):\"\"\"\n",
    "    )\n",
    "}"
   ]
  },
  {
   "cell_type": "code",
   "execution_count": 31,
   "id": "df673480",
   "metadata": {},
   "outputs": [],
   "source": [
    "def process_question(question_ko: str):\n",
    "    # 1. 질문 유형 분류\n",
    "    question_type = classify_question_type(question_ko)\n",
    "\n",
    "    # 2. 교수 이름 추출\n",
    "    target_author_ko = extract_professor_name(question_ko)\n",
    "    target_author_en = professor_name_map.get(target_author_ko) if target_author_ko else None\n",
    "\n",
    "    if question_type in [\"논문_목록\", \"연구_흐름\"] and not target_author_en:\n",
    "        raise ValueError(\"질문에서 유효한 교수 이름을 찾을 수 없습니다.\")\n",
    "\n",
    "    # 3. 질문 번역\n",
    "    question_en = translate_with_gpt(question_ko)\n",
    "\n",
    "    # 4. 검색 (professor 기준 수동 필터링)\n",
    "    collection = db3._collection.get(include=[\"metadatas\", \"documents\"])\n",
    "\n",
    "    # metadatas와 documents를 묶어서 Document 객체로 재구성\n",
    "    docs = [\n",
    "        Document(page_content=page, metadata=meta)\n",
    "        for page, meta in zip(collection[\"documents\"], collection[\"metadatas\"])\n",
    "        if meta.get(\"professor\") == target_author_en\n",
    "    ]\n",
    "\n",
    "    # 5. 첫 페이지 기반 요약용 context 구성\n",
    "    context_text = \"\\n\\n---\\n\\n\".join(get_first_page_summary(doc) for doc in docs)\n",
    "\n",
    "    # 6. 프롬프트 설정\n",
    "    if question_type == \"논문_목록\":\n",
    "        context_text = \"\\n\\n---\\n\\n\".join(get_first_page_summary(doc) for doc in docs)\n",
    "        prompt = prompt_templates[\"논문_목록\"]\n",
    "\n",
    "    elif question_type == \"연구_흐름\":\n",
    "        context_text = \"\\n\\n---\\n\\n\".join(get_first_page_summary(doc) for doc in docs)\n",
    "        prompt = prompt_templates[\"연구_흐름\"]\n",
    "\n",
    "    else:  # 논문_요약\n",
    "        context_text = \"\\n\\n---\\n\\n\".join(doc.page_content for doc in docs)\n",
    "        prompt = prompt_templates[\"논문_요약\"]\n",
    "\n",
    "\n",
    "    # 7. 실행\n",
    "    chain = prompt | ChatOpenAI(model=\"gpt-4o\")\n",
    "    inputs = {\"context\": context_text}\n",
    "    if \"question\" in prompt.input_variables:\n",
    "        inputs[\"question\"] = question_ko\n",
    "\n",
    "    result = chain.invoke(inputs)\n",
    "\n",
    "    print(f\"[{question_type.upper()}]\")\n",
    "    print(result.content)\n"
   ]
  },
  {
   "cell_type": "code",
   "execution_count": 32,
   "id": "c9437f09",
   "metadata": {},
   "outputs": [
    {
     "name": "stdout",
     "output_type": "stream",
     "text": [
      "[논문_목록]\n",
      "노맹석 교수님의 논문을 다음과 같이 정리하였습니다:\n",
      "\n",
      "1. **Title**: \"STATISTICS IN MEDICINE\"\n",
      "   - **Publication Year**: 2006\n",
      "   - **Core Keywords**: 의료 통계, frailty 모델, 이질성\n",
      "   - **Authors**: 노맹석, 하인득, 이영조\n",
      "\n",
      "2. **Title**: \"Robust estimation of dropout models using hierarchical likelihood\"\n",
      "   - **Publication Year**: 2011\n",
      "   - **Core Keywords**: 결측 데이터, robust estimation, 계층적 우도\n",
      "   - **Authors**: 노맹석, 이영조, 켄워드 마이클 G.\n",
      "\n",
      "3. **Title**: \"Multicomponent Variance Estimation for Binary Traits\"\n",
      "   - **Publication Year**: 2006\n",
      "   - **Core Keywords**: 이분형 형질, 분산 추정, 유전 통계\n",
      "   - **Authors**: 노맹석, 이영조\n",
      "\n",
      "4. **Title**: \"Double hierarchical generalized linear models (with discussion)\"\n",
      "   - **Publication Year**: 2006\n",
      "   - **Core Keywords**: 이중 계층적 일반화 선형 모델, 통계 모형, 분산 구성 요소\n",
      "   - **Authors**: 이영조, 넬더 J.A.\n",
      "\n",
      "5. **Title**: \"Journal of Multivariate Analysis\"\n",
      "   - **Publication Year**: 2007\n",
      "   - **Core Keywords**: 다변량 분석, 통계적 효율성, REML 절차\n",
      "   - **Authors**: 노맹석, 이영조\n",
      "\n",
      "이 목록은 노맹석 교수님의 대표적인 논문들로 구성되어 있으며, 각 논문은 특정 통계적 방법론이나 데이터 분석 기술을 심도 있게 다루고 있습니다. 추가적인 논문도 있으니, 특정 주제나 연구에 대한 더 상세한 정보가 필요하시면 언제든지 말씀해 주시기 바랍니다.\n"
     ]
    }
   ],
   "source": [
    "# ✅ 실행 예시\n",
    "question_ko = \"노맹석 교수님의 논문 정리해줘\"\n",
    "process_question(question_ko)"
   ]
  }
 ],
 "metadata": {
  "kernelspec": {
   "display_name": "chatbot",
   "language": "python",
   "name": "python3"
  },
  "language_info": {
   "codemirror_mode": {
    "name": "ipython",
    "version": 3
   },
   "file_extension": ".py",
   "mimetype": "text/x-python",
   "name": "python",
   "nbconvert_exporter": "python",
   "pygments_lexer": "ipython3",
   "version": "3.12.9"
  }
 },
 "nbformat": 4,
 "nbformat_minor": 5
}
