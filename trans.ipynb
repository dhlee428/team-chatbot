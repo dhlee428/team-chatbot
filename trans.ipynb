{
 "cells": [
  {
   "cell_type": "code",
   "execution_count": null,
   "id": "d7d9e976",
   "metadata": {},
   "outputs": [],
   "source": [
    "import os\n",
    "import re\n",
    "from openai import OpenAI\n",
    "from langchain_chroma import Chroma\n",
    "from langchain_openai import OpenAIEmbeddings\n",
    "from langchain.prompts import PromptTemplate\n",
    "from langchain.schema import Document\n",
    "from langchain.chat_models import ChatOpenAI\n",
    "from langchain.chains import LLMChain\n",
    "\n",
    "# 🔑 환경 설정\n",
    "os.environ[\"OPENAI_API_KEY\"] = \"OPENAI_API_KEY\"  # ← 실제 키로 교체\n",
    "client = OpenAI(api_key=os.environ[\"OPENAI_API_KEY\"])\n",
    "embedding = OpenAIEmbeddings(model=\"text-embedding-3-small\")"
   ]
  },
  {
   "cell_type": "code",
   "execution_count": 21,
   "id": "3ee5d3d6",
   "metadata": {},
   "outputs": [],
   "source": [
    "db3 = Chroma(\n",
    "    persist_directory=\"./chroma_db\",\n",
    "    embedding_function=embedding\n",
    ")"
   ]
  },
  {
   "cell_type": "code",
   "execution_count": 22,
   "id": "125131bd",
   "metadata": {},
   "outputs": [],
   "source": [
    "# ✅ 한-영 교수 이름 매핑\n",
    "professor_name_map = {\n",
    "    \"노맹석\": \"Maengseok Noh\",\n",
    "    \"문형빈\": \"HyungBin Moon\",\n",
    "    \"하지환\": \"Jihwan Ha\",\n",
    "    \"지준화\": \"Junhwa Chi\",\n",
    "}"
   ]
  },
  {
   "cell_type": "code",
   "execution_count": 23,
   "id": "56a87074",
   "metadata": {},
   "outputs": [],
   "source": [
    "# ✅ 번역\n",
    "def translate_with_gpt(text, source_lang=\"ko\", target_lang=\"en\") -> str:\n",
    "    prompt = f\"Translate this from {source_lang} to {target_lang}:\\n\\n{text}\"\n",
    "    response = client.chat.completions.create(\n",
    "        model=\"gpt-4\",\n",
    "        messages=[{\"role\": \"user\", \"content\": prompt}],\n",
    "        temperature=0.3\n",
    "    )\n",
    "    return response.choices[0].message.content.strip()"
   ]
  },
  {
   "cell_type": "code",
   "execution_count": 24,
   "id": "c1e20ea0",
   "metadata": {},
   "outputs": [],
   "source": [
    "# ✅ 질문 유형 분류\n",
    "def classify_question_type(question_ko: str) -> str:\n",
    "    prompt = f\"\"\"\n",
    "다음 질문의 유형을 아래 중 하나로 분류해 주세요:\n",
    "- 논문_목록\n",
    "- 논문_요약\n",
    "- 연구_흐름\n",
    "\n",
    "질문: {question_ko}\n",
    "질문 유형:\"\"\"\n",
    "    response = client.chat.completions.create(\n",
    "        model=\"gpt-4o\",\n",
    "        messages=[{\"role\": \"user\", \"content\": prompt.strip()}],\n",
    "        temperature=0\n",
    "    )\n",
    "    return response.choices[0].message.content.strip()"
   ]
  },
  {
   "cell_type": "code",
   "execution_count": 25,
   "id": "6f2a4df2",
   "metadata": {},
   "outputs": [
    {
     "data": {
      "text/plain": [
       "\"The list of Professor Moon Hyung-bin's papers is\""
      ]
     },
     "execution_count": 25,
     "metadata": {},
     "output_type": "execute_result"
    }
   ],
   "source": [
    "translate_with_gpt(\"문형빈 교수님의 논문 목록은\")"
   ]
  },
  {
   "cell_type": "code",
   "execution_count": 26,
   "id": "ed3fe5e9",
   "metadata": {},
   "outputs": [],
   "source": [
    "# ✅ 교수명 추출\n",
    "def extract_professor_name(question: str) -> str | None:\n",
    "    match = re.search(r\"([가-힣]{2,4})\\s*교수\", question)\n",
    "    return match.group(1) if match else None"
   ]
  },
  {
   "cell_type": "code",
   "execution_count": 27,
   "id": "1d537120",
   "metadata": {},
   "outputs": [],
   "source": [
    "def get_first_page_summary(doc: Document) -> str:\n",
    "    title = doc.metadata.get(\"title\", \"제목 정보 없음\")\n",
    "    content = doc.page_content.strip().split(\"\\n\")[:2]  # 첫 줄만\n",
    "    return f\"📌 제목: {title}\\n📄 요약: {content}\"\n"
   ]
  },
  {
   "cell_type": "code",
   "execution_count": 28,
   "id": "9812b9ac",
   "metadata": {},
   "outputs": [],
   "source": [
    "def format_doc_with_metadata(doc: Document) -> str:\n",
    "    professor = doc.metadata.get(\"professor\", \"교수 정보 없음\")\n",
    "    title = doc.metadata.get(\"title\", \"제목 정보 없음\")\n",
    "    content = doc.page_content[:500] + \"...\" if len(doc.page_content) > 500 else doc.page_content\n",
    "    return f\"\"\"🧑‍🏫 교수: {professor}\n",
    "📄 내용 요약:\n",
    "{content}\n",
    "\"\"\"\n",
    "\n",
    "# ✅ 프롬프트 템플릿\n",
    "prompt_templates = {\n",
    "    \"논문_목록\": PromptTemplate(\n",
    "        input_variables=[\"context\", \"question\"],\n",
    "        template=\"\"\"\n",
    "You are provided with a collection of academic papers written by a professor. \n",
    "Based on the following user request, list the key papers along with:\n",
    "\n",
    "1. The title of each paper (📌 Please keep the title in English)  \n",
    "2. The publication year (if available)  \n",
    "3. A few core keywords representing the main topic (in Korean)  \n",
    "4. The author(s) of each paper (in Korean)\n",
    "\n",
    "User question:\n",
    "{question}\n",
    "\n",
    "Paper content:\n",
    "{context}\n",
    "\n",
    "📌 Please write your response in Korean using a respectful and organized tone, **but keep the paper titles in English**.\n",
    "\n",
    "논문 목록 요약 (in Korean):\"\"\"\n",
    "    ),\n",
    "    \"논문_요약\": PromptTemplate(\n",
    "        input_variables=[\"context\"],\n",
    "        template=\"\"\"\n",
    "You are a research summarization assistant. Based on the following academic paper, provide a clear and concise summary including the following elements:\n",
    "\n",
    "1. Research subject (what or who is being studied)  \n",
    "2. Research method (how it was studied)  \n",
    "3. Research findings (what was discovered)  \n",
    "4. Suggestions or implications (recommendations or conclusions)\n",
    "\n",
    "Paper content:\n",
    "{context}\n",
    "\n",
    "📌 Please write your summary in Korean, using a polite and professional tone.\n",
    "\n",
    "논문 요약 (in Korean):\"\"\"\n",
    "    ),\n",
    "    \"연구_흐름\": PromptTemplate(\n",
    "        input_variables=[\"context\", \"question\"],\n",
    "        template=\"\"\"\n",
    "You are an academic assistant. Given a collection of research papers written by a single professor, analyze how the research topics or areas of interest have evolved over time. \n",
    "Identify key shifts, trends, or patterns chronologically based on the publication content.\n",
    "\n",
    "Context:\n",
    "{context}\n",
    "\n",
    "Question:\n",
    "{question}\n",
    "\n",
    "Now, summarize the chronological progression of the professor’s research focus. \n",
    "📌 Please write your answer in Korean using a clear and respectful tone.\n",
    "\n",
    "연구 흐름 요약 (한국어로):\"\"\"\n",
    "    )\n",
    "}"
   ]
  },
  {
   "cell_type": "code",
   "execution_count": 29,
   "id": "df673480",
   "metadata": {},
   "outputs": [],
   "source": [
    "def process_question(question_ko: str):\n",
    "    # 1. 질문 유형 분류\n",
    "    question_type = classify_question_type(question_ko)\n",
    "\n",
    "    # 2. 교수 이름 추출\n",
    "    target_author_ko = extract_professor_name(question_ko)\n",
    "    target_author_en = professor_name_map.get(target_author_ko) if target_author_ko else None\n",
    "\n",
    "    if question_type in [\"논문_목록\", \"연구_흐름\"] and not target_author_en:\n",
    "        raise ValueError(\"질문에서 유효한 교수 이름을 찾을 수 없습니다.\")\n",
    "\n",
    "    # 3. 질문 번역\n",
    "    question_en = translate_with_gpt(question_ko)\n",
    "\n",
    "    # 4. 검색 (professor 기준 수동 필터링)\n",
    "    collection = db3._collection.get(include=[\"metadatas\", \"documents\"])\n",
    "\n",
    "    # metadatas와 documents를 묶어서 Document 객체로 재구성\n",
    "    docs = [\n",
    "        Document(page_content=page, metadata=meta)\n",
    "        for page, meta in zip(collection[\"documents\"], collection[\"metadatas\"])\n",
    "        if meta.get(\"professor\") == target_author_en\n",
    "    ]\n",
    "\n",
    "    # 5. 첫 페이지 기반 요약용 context 구성\n",
    "    context_text = \"\\n\\n---\\n\\n\".join(get_first_page_summary(doc) for doc in docs)\n",
    "\n",
    "    # 5. context 구성\n",
    "    if question_type == \"논문_목록\":\n",
    "        context_text = \"\\n\\n---\\n\\n\".join(\n",
    "            f\"📌 제목: {doc.metadata.get('title', '제목 정보 없음')}\\n📄 요약: {doc.page_content.strip().split('\\n')[0]}\"\n",
    "            for doc in docs\n",
    "        )\n",
    "        prompt = prompt_templates[\"논문_목록\"]\n",
    "\n",
    "    elif question_type == \"연구_흐름\":\n",
    "        context_text = \"\\n\\n---\\n\\n\".join(get_first_page_summary(doc) for doc in docs)\n",
    "        prompt = prompt_templates[\"연구_흐름\"]\n",
    "\n",
    "    else:  # 논문_요약\n",
    "        context_text = \"\\n\\n---\\n\\n\".join(doc.page_content for doc in docs)\n",
    "        prompt = prompt_templates[\"논문_요약\"]\n",
    "\n",
    "\n",
    "\n",
    "    # 7. 실행\n",
    "    chain = prompt | ChatOpenAI(model=\"gpt-4o\")\n",
    "    inputs = {\"context\": context_text}\n",
    "    if \"question\" in prompt.input_variables:\n",
    "        inputs[\"question\"] = question_ko\n",
    "\n",
    "    result = chain.invoke(inputs)\n",
    "\n",
    "    print(f\"[{question_type.upper()}]\")\n",
    "    print(result.content)\n"
   ]
  },
  {
   "cell_type": "code",
   "execution_count": 30,
   "id": "c9437f09",
   "metadata": {},
   "outputs": [
    {
     "name": "stdout",
     "output_type": "stream",
     "text": [
      "[논문_목록]\n",
      "노맹석 교수님의 논문을 다음과 같이 정리하였습니다:\n",
      "\n",
      "1. **Dispersion frailty models and HGLMs**\n",
      "   - **발행연도**: 정보 없음\n",
      "   - **핵심 키워드**: 분산 취약성 모델, HGLM, 통계학 (분산 취약성 모델, HGLM, 통계학)\n",
      "   - **저자**: 노맹석, 하인덕, 이영조\n",
      "\n",
      "2. **Extended negative binomial hurdle models**\n",
      "   - **발행연도**: 정보 없음\n",
      "   - **핵심 키워드**: 부정 이항 모델, 과산포, 제로 카운트 (부정 이항 모델, 과산포, 제로 카운트)\n",
      "   - **저자**: 정보 없음\n",
      "\n",
      "3. **Hierarchical likelihood approach to non-Gaussian factor analysis**\n",
      "   - **발행연도**: 정보 없음\n",
      "   - **핵심 키워드**: 비가우시안 인자 분석, 계층적 우도, 통계 시뮬레이션 (비가우시안 인자 분석, 계층적 우도, 통계 시뮬레이션)\n",
      "   - **저자**: 노맹석 외\n",
      "\n",
      "4. **Hierarchical likelihood methods for nonlinear and generalized linear mixed models with missing data and measurement errors in covariates**\n",
      "   - **발행연도**: 정보 없음\n",
      "   - **핵심 키워드**: 비선형 모델, 일반화 선형 혼합 모델, 누락 데이터 (비선형 모델, 일반화 선형 혼합 모델, 누락 데이터)\n",
      "   - **저자**: 노맹석 외\n",
      "\n",
      "5. **Hierarchical-likelihood approach for nonlinear mixed-effects models**\n",
      "   - **발행연도**: 2008\n",
      "   - **핵심 키워드**: 비선형 혼합효과 모델, 계층적 우도, 바이어스 감소 (비선형 혼합효과 모델, 계층적 우도, 바이어스 감소)\n",
      "   - **저자**: 노맹석, 이영조\n",
      "\n",
      "6. **Multicomponent variance estimation for binary traits in family-based studies**\n",
      "   - **발행연도**: 2006\n",
      "   - **핵심 키워드**: 이진 형질, 가족 기반 연구, 다중 성분 분산 추정 (이진 형질, 가족 기반 연구, 다중 성분 분산 추정)\n",
      "   - **저자**: 노맹석 외\n",
      "\n",
      "7. **REML estimation for binary data in GLMMs**\n",
      "   - **발행연도**: 2007\n",
      "   - **핵심 키워드**: 이진 데이터, 일반화 선형 혼합 모델, 제한 최대우도 (이진 데이터, 일반화 선형 혼합 모델, 제한 최대우도)\n",
      "   - **저자**: 노맹석, 이영조\n",
      "\n",
      "8. **Robust ascertainment-adjusted parameter estimation**\n",
      "   - **발행연도**: 정보 없음\n",
      "   - **핵심 키워드**: 강건한 파라미터 추정, 계층적 우도, 유전 연구 (강건한 파라미터 추정, 계층적 우도, 유전 연구)\n",
      "   - **저자**: 정보 없음\n",
      "\n",
      "9. **Robust estimation of dropout models using hierarchical likelihood**\n",
      "   - **발행연도**: 2011\n",
      "   - **핵심 키워드**: 드롭아웃 모델, 강건한 추정, 계층적 우도 (드롭아웃 모델, 강건한 추정, 계층적 우도)\n",
      "   - **저자**: 노맹석, 이영조, Michael G. Kenward\n",
      "\n",
      "이 논문들은 주로 계층적 우도 방법론, 비선형 모델, 통계적 추정에 대한 주제를 다루고 있습니다. 추가적인 세부사항이 필요한 경우 특정 논문을 더 깊이 살펴보시길 권장합니다.\n"
     ]
    }
   ],
   "source": [
    "# ✅ 실행 예시\n",
    "question_ko = \"노맹석 교수님의 논문 정리해줘\"\n",
    "process_question(question_ko)"
   ]
  },
  {
   "cell_type": "code",
   "execution_count": 31,
   "id": "a50da97e",
   "metadata": {},
   "outputs": [
    {
     "name": "stdout",
     "output_type": "stream",
     "text": [
      "[연구_흐름]\n",
      "노맹석 교수님의 연구는 주로 통계 모델링 및 분석 방법론에 집중되어 있으며, 특히 계층적 가능도(hierarchical likelihood)와 관련된 여러 분야에 걸쳐 다양한 연구를 진행해왔습니다. 다음은 연구 주제의 시간적 발전을 요약한 것입니다.\n",
      "\n",
      "1. **초기 연구 (2006년 이전)**: 노맹석 교수님은 이 시기에 주로 산포 취약성 모델과 HGLMs(Hierarchical Generalized Linear Models)에 대한 연구를 진행하였습니다. 이 연구들은 주로 통계 모델링에서의 이질성 감지 및 모델링에 중점을 두었습니다.\n",
      "\n",
      "2. **중기 연구 (2006년~2012년)**: 이 시기에는 계층적 가능도 접근법을 다양한 통계 모델에 적용하는 연구가 주를 이루었습니다. 예를 들어, 비선형 및 일반화 선형 혼합 모델(NLMMs, GLMMs)에서의 계층적 가능도 방법론을 제안하고, 결측 데이터와 공변량의 측정 오류가 있는 경우에도 효율적인 추론 방법을 개발하였습니다.\n",
      "\n",
      "3. **최근 연구 (2012년 이후)**: 최근에는 강건한 추정 방법을 적용하여 드롭아웃 모델과 같은 복잡한 데이터 구조를 다루는 연구를 진행하고 있습니다. 이 연구들은 특히 관측되지 않은 데이터나 결측 데이터가 존재하는 경우에도 정확한 추정을 가능하게 하는 방법론 개발에 중점을 두고 있습니다. 또한, 계층적 가능도 방법을 통해 비정규 분포에서도 안정적인 추정을 할 수 있는 방법을 탐구하고 있습니다.\n",
      "\n",
      "노 교수님의 연구는 전체적으로 통계 모델링의 정밀성과 효율성을 높이는 데 기여하고 있으며, 특히 복잡한 데이터 구조를 다루는 데 있어 매우 중요한 역할을 하고 있습니다. 이러한 연구들은 통계학 분야에서의 다양한 실질적 문제 해결에 기여하고 있습니다.\n"
     ]
    }
   ],
   "source": [
    "process_question('노맹석 교수님의 연구 동향')"
   ]
  },
  {
   "cell_type": "code",
   "execution_count": 33,
   "id": "c9941e81",
   "metadata": {},
   "outputs": [
    {
     "name": "stdout",
     "output_type": "stream",
     "text": [
      "[논문_요약]\n",
      "논문 요약:\n",
      "\n",
      "1. 연구 주제: 이 연구는 도시 내 녹지 공간이 주민들의 정신 건강에 미치는 영향을 조사하였습니다.\n",
      "\n",
      "2. 연구 방법: 연구진은 대규모 도시 거주자를 대상으로 설문 조사를 실시하여 녹지 공간 접근성과 정신 건강 상태 간의 상관관계를 분석하였습니다. 또한, 위성 이미지를 통해 도시 내 녹지 공간의 비율을 정량적으로 측정하였습니다.\n",
      "\n",
      "3. 연구 결과: 연구 결과, 녹지 공간에 대한 높은 접근성을 가진 주민들이 그렇지 않은 주민들에 비해 더 긍정적인 정신 건강 상태를 보고하였습니다. 특히, 스트레스 수준과 우울증 증상이 녹지 공간 접근성에 따라 유의미하게 감소하는 것으로 나타났습니다.\n",
      "\n",
      "4. 제안 및 함의: 연구는 도시 계획자와 정책 입안자들이 주민들의 정신 건강 증진을 위해 더 많은 녹지 공간을 조성할 필요가 있음을 시사합니다. 또한, 녹지 공간의 접근성을 높이는 것이 주민들의 전반적인 삶의 질 향상에 기여할 수 있다는 결론을 내렸습니다.\n"
     ]
    }
   ],
   "source": [
    "process_question('Hierarchical likelihood methods for nonlinear and generalized linear mixed models with missing data and measurement errors in covariates논문 정리해줘')"
   ]
  }
 ],
 "metadata": {
  "kernelspec": {
   "display_name": "chatbot",
   "language": "python",
   "name": "python3"
  },
  "language_info": {
   "codemirror_mode": {
    "name": "ipython",
    "version": 3
   },
   "file_extension": ".py",
   "mimetype": "text/x-python",
   "name": "python",
   "nbconvert_exporter": "python",
   "pygments_lexer": "ipython3",
   "version": "3.12.9"
  }
 },
 "nbformat": 4,
 "nbformat_minor": 5
}
