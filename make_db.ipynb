{
 "cells": [
  {
   "cell_type": "code",
   "execution_count": null,
   "id": "b61d369e",
   "metadata": {},
   "outputs": [],
   "source": [
    "import os\n",
    "from langchain.document_loaders import PyPDFLoader\n",
    "from langchain_text_splitters import RecursiveCharacterTextSplitter\n",
    "from langchain_openai import OpenAIEmbeddings\n",
    "from langchain_chroma import Chroma\n",
    "from langchain.vectorstores import Chroma\n",
    "from langchain.chat_models import ChatOpenAI\n",
    "from langchain.chains import LLMChain\n",
    "from langchain.prompts import PromptTemplate\n",
    "from langchain.schema import Document\n",
    "os.environ[\"OPENAI_API_KEY\"] = \"OPENAI_API_KEY\"\n",
    "\n",
    "openai_embedding=OpenAIEmbeddings(model = 'text-embedding-3-small')"
   ]
  },
  {
   "cell_type": "code",
   "execution_count": 2,
   "id": "264b1c6f",
   "metadata": {},
   "outputs": [],
   "source": [
    "def load_and_split_pdf(file_path):\n",
    "    loader = PyPDFLoader(file_path)\n",
    "    return loader.load_and_split()"
   ]
  },
  {
   "cell_type": "code",
   "execution_count": 3,
   "id": "68da13bc",
   "metadata": {},
   "outputs": [],
   "source": [
    "def create_vector_store(_docs):\n",
    "    text_splitter = RecursiveCharacterTextSplitter(chunk_size=1000, chunk_overlap=100)\n",
    "    split_docs = text_splitter.split_documents(_docs)\n",
    "    persist_directory = \"./chroma_db\"\n",
    "    vectorstore = Chroma.from_documents(\n",
    "        split_docs, \n",
    "        OpenAIEmbeddings(model='text-embedding-3-small'),\n",
    "        persist_directory=persist_directory\n",
    "    )\n",
    "    return vectorstore"
   ]
  },
  {
   "cell_type": "code",
   "execution_count": 4,
   "id": "ee31e125",
   "metadata": {},
   "outputs": [],
   "source": [
    "def add_to_vector_store(new_docs, persist_directory=\"./chroma_db\"):\n",
    "    # 1. 기존 벡터 저장소 불러오기\n",
    "    vectorstore = Chroma(\n",
    "        persist_directory=persist_directory,\n",
    "        embedding_function=OpenAIEmbeddings(model=\"text-embedding-3-small\")\n",
    "    )\n",
    "\n",
    "    # 2. 문서 분할\n",
    "    text_splitter = RecursiveCharacterTextSplitter(chunk_size=1000, chunk_overlap=100)\n",
    "    split_docs = text_splitter.split_documents(new_docs)\n",
    "\n",
    "    # 3. 문서 추가\n",
    "    vectorstore.add_documents(split_docs)\n",
    "\n",
    "    return vectorstore"
   ]
  },
  {
   "cell_type": "code",
   "execution_count": 5,
   "id": "26c04695",
   "metadata": {},
   "outputs": [],
   "source": [
    "path='../data/문형빈 교수님 sci'\n",
    "pl=os.listdir(path)"
   ]
  },
  {
   "cell_type": "code",
   "execution_count": 6,
   "id": "402e809b",
   "metadata": {},
   "outputs": [
    {
     "data": {
      "text/plain": [
       "<langchain_chroma.vectorstores.Chroma at 0x1b7dc265820>"
      ]
     },
     "execution_count": 6,
     "metadata": {},
     "output_type": "execute_result"
    }
   ],
   "source": [
    "mk=load_and_split_pdf(os.path.join(path, pl[0]))\n",
    "create_vector_store(mk)"
   ]
  },
  {
   "cell_type": "code",
   "execution_count": 7,
   "id": "8daf25fd",
   "metadata": {},
   "outputs": [],
   "source": [
    "for i in pl[1:]:\n",
    "    ad=load_and_split_pdf(os.path.join(path, i))\n",
    "    add_to_vector_store(ad)"
   ]
  },
  {
   "cell_type": "code",
   "execution_count": 9,
   "id": "fb6f8af4",
   "metadata": {},
   "outputs": [
    {
     "name": "stdout",
     "output_type": "stream",
     "text": [
      "levels.Int J Energy Res. 2020;44:8037–8052. https://\n",
      "doi.org/10.1002/er.4974\n",
      "8052 MOON AND WOO\n",
      " 1099114x, 2020, 10, Downloaded from https://onlinelibrary.wiley.com/doi/10.1002/er.4974 by Pukyong National University, Wiley Online Library on [14/04/2025]. See the Terms and Conditions (https://onlinelibrary.wiley.com/terms-and-conditions) on Wiley Online Library for rules of use; OA articles are governed by the applicable Creative Commons License\n"
     ]
    }
   ],
   "source": [
    "# load from disk\n",
    "db3 = Chroma(\n",
    "    persist_directory=\"./chroma_db\",\n",
    "    embedding_function=OpenAIEmbeddings(model=\"text-embedding-3-small\")\n",
    ")\n",
    "\n",
    "query = \"HyungBin Moon's 2021 paper?\"\n",
    "result = db3.similarity_search(query)\n",
    "print(result[0].page_content)"
   ]
  },
  {
   "cell_type": "code",
   "execution_count": 11,
   "id": "09418cd4",
   "metadata": {},
   "outputs": [
    {
     "name": "stderr",
     "output_type": "stream",
     "text": [
      "C:\\Users\\wonhy\\AppData\\Local\\Temp\\ipykernel_20212\\2887330060.py:1: LangChainDeprecationWarning: The class `Chroma` was deprecated in LangChain 0.2.9 and will be removed in 1.0. An updated version of the class exists in the :class:`~langchain-chroma package and should be used instead. To use it run `pip install -U :class:`~langchain-chroma` and import as `from :class:`~langchain_chroma import Chroma``.\n",
      "  db3 = Chroma(\n",
      "C:\\Users\\wonhy\\AppData\\Local\\Temp\\ipykernel_20212\\2887330060.py:19: LangChainDeprecationWarning: The class `ChatOpenAI` was deprecated in LangChain 0.0.10 and will be removed in 1.0. An updated version of the class exists in the :class:`~langchain-openai package and should be used instead. To use it run `pip install -U :class:`~langchain-openai` and import as `from :class:`~langchain_openai import ChatOpenAI``.\n",
      "  llm = ChatOpenAI(model=\"gpt-4o\")\n",
      "C:\\Users\\wonhy\\AppData\\Local\\Temp\\ipykernel_20212\\2887330060.py:20: LangChainDeprecationWarning: The class `LLMChain` was deprecated in LangChain 0.1.17 and will be removed in 1.0. Use :meth:`~RunnableSequence, e.g., `prompt | llm`` instead.\n",
      "  chain = LLMChain(llm=llm, prompt=PROMPT)\n",
      "C:\\Users\\wonhy\\AppData\\Local\\Temp\\ipykernel_20212\\2887330060.py:22: LangChainDeprecationWarning: The method `Chain.run` was deprecated in langchain 0.1.0 and will be removed in 1.0. Use :meth:`~invoke` instead.\n",
      "  summary = chain.run(context=context_text)\n"
     ]
    },
    {
     "name": "stdout",
     "output_type": "stream",
     "text": [
      "**연구대상 및 방법:**\n",
      "이 연구는 한국에서의 사용후핵연료 관리에 대한 대중의 태도와 선호를 분석하는 것을 목표로 하였습니다. 이를 위해 2020년 1월에 전문 설문 조사 회사인 마크로밀 엠브레인을 통해 온라인 설문 조사를 실시하였으며, 조사 대상은 20세에서 59세 사이의 성인 1000명으로, 성별, 연령, 지역 등 인구통계학적 특성을 고려한 비례층화표본추출 방법을 통해 선정되었습니다.\n",
      "\n",
      "**연구방법:**\n",
      "연구는 사용후핵연료 관리 전략에 대한 대중의 개별 및 세그먼트 수준에서의 선호도를 분석하였습니다. 이를 위해 다변량 분석 기법을 사용하여 다양한 관리 전략에 대한 대중의 수용도를 측정하였고, 각 전략의 속성에 대한 대중의 태도를 파악하였습니다.\n",
      "\n",
      "**연구결과:**\n",
      "연구 결과, 사용후핵연료 관리에 대한 대중의 수용도는 전략의 속성에 크게 의존하며, 특히 안전과 관련된 요소에 민감한 것으로 나타났습니다. 대중은 사용후핵연료의 위험성과 비용 증가에 대해 우려를 나타내었으며, 민주적 정책 과정이 반영된 관리 전략에 대해 더 높은 수용도를 보였습니다.\n",
      "\n",
      "**제언:**\n",
      "사용후핵연료 관리 정책을 효과적으로 수립하기 위해서는 대중의 안전에 대한 우려를 충분히 이해하고 이를 반영하는 정책 개발이 필요합니다. 또한, 정책 수립 과정에서 대중의 참여를 보장하고, 민주적 절차를 강화함으로써 정책의 수용도를 높일 수 있을 것입니다. 이러한 접근은 대중의 신뢰를 구축하고, 정책 실행의 원활함을 보장할 수 있는 기반이 될 것입니다. \n",
      "\n"
     ]
    }
   ],
   "source": [
    "db3 = Chroma(\n",
    "    persist_directory=\"./chroma_db\",\n",
    "    embedding_function=OpenAIEmbeddings(model=\"text-embedding-3-small\")\n",
    ")\n",
    "\n",
    "query = \"explain hyungbin moon's 2020 paper\"\n",
    "docs = db3.similarity_search(query, k=15)\n",
    "\n",
    "formatted_docs = [Document(page_content=doc.page_content) for doc in docs]\n",
    "\n",
    "prompt_template = \"\"\"\n",
    "다음은 논문 일부입니다. 이 내용을 바탕으로 석사 논문 내용을 연구대상 및 방법, 연구방법, 연구결과, 제언을 핵심적으로 요약해 주세요.\n",
    "논문 내용:\n",
    "{context}\n",
    "요약:\n",
    "\"\"\"\n",
    "\n",
    "PROMPT = PromptTemplate(template=prompt_template, input_variables=[\"context\"])\n",
    "llm = ChatOpenAI(model=\"gpt-4o\")\n",
    "chain = LLMChain(llm=llm, prompt=PROMPT)\n",
    "context_text = \"\\n\\n\".join([doc.page_content for doc in formatted_docs])\n",
    "summary = chain.run(context=context_text)\n",
    "print(summary, \"\\n\")"
   ]
  }
 ],
 "metadata": {
  "kernelspec": {
   "display_name": "chatbot",
   "language": "python",
   "name": "python3"
  },
  "language_info": {
   "codemirror_mode": {
    "name": "ipython",
    "version": 3
   },
   "file_extension": ".py",
   "mimetype": "text/x-python",
   "name": "python",
   "nbconvert_exporter": "python",
   "pygments_lexer": "ipython3",
   "version": "3.12.9"
  }
 },
 "nbformat": 4,
 "nbformat_minor": 5
}
